{
  "nbformat": 4,
  "nbformat_minor": 0,
  "metadata": {
    "colab": {
      "name": "HamoyeStageC Quiz.ipynb",
      "provenance": [],
      "collapsed_sections": [],
      "authorship_tag": "ABX9TyNBMd3tiEHc4m4mHekmzqXZ",
      "include_colab_link": true
    },
    "kernelspec": {
      "name": "python3",
      "display_name": "Python 3"
    },
    "language_info": {
      "name": "python"
    }
  },
  "cells": [
    {
      "cell_type": "markdown",
      "metadata": {
        "id": "view-in-github",
        "colab_type": "text"
      },
      "source": [
        "<a href=\"https://colab.research.google.com/github/ademaratioluwatoyin/HAMOYE-STAGEC/blob/main/HamoyeStageC_Quiz.ipynb\" target=\"_parent\"><img src=\"https://colab.research.google.com/assets/colab-badge.svg\" alt=\"Open In Colab\"/></a>"
      ]
    },
    {
      "cell_type": "markdown",
      "metadata": {
        "id": "dddHYzKCYVKI"
      },
      "source": [
        "# HAMOYE STAGE C\n",
        "\n",
        "\n",
        "\n"
      ]
    },
    {
      "cell_type": "markdown",
      "metadata": {
        "id": "ujIwWWBgYrUy"
      },
      "source": [
        "**QUESTION 1**"
      ]
    },
    {
      "cell_type": "code",
      "metadata": {
        "colab": {
          "base_uri": "https://localhost:8080/"
        },
        "id": "z92UOzt2ZgLA",
        "outputId": "29882bd0-2412-4d4b-b2de-4de05e884e26"
      },
      "source": [
        "# from the confusion matrix given, the following are the values of tp, fp, fn, and tn\n",
        "tp = 355\n",
        "fp = 1480\n",
        "fn = 45\n",
        "tn = 120\n",
        "precision = tp /(tp + fp) # precision\n",
        "recall = tp/(tp + fn) # recall\n",
        "f1_score = 2 * ((precision*recall)/ (precision + recall)) #f1_score \n",
        "print('F1 Score of Classifier =', round(f1_score, 4))"
      ],
      "execution_count": 72,
      "outputs": [
        {
          "output_type": "stream",
          "name": "stdout",
          "text": [
            "F1 Score of Classifier = 0.3177\n"
          ]
        }
      ]
    },
    {
      "cell_type": "markdown",
      "metadata": {
        "id": "iQV5OPYRazF_"
      },
      "source": [
        "**QUESTION 2**"
      ]
    },
    {
      "cell_type": "markdown",
      "metadata": {
        "id": "LCEk7Pgpa_fL"
      },
      "source": [
        "Answer : Maximimum Likelihood is best for Logistic Regression"
      ]
    },
    {
      "cell_type": "markdown",
      "metadata": {
        "id": "S7DUYJSgbQPl"
      },
      "source": [
        "**QUESTION 3**"
      ]
    },
    {
      "cell_type": "markdown",
      "metadata": {
        "id": "Mk33Kr-Hbaps"
      },
      "source": [
        "Answer : To prevent overfitting"
      ]
    },
    {
      "cell_type": "markdown",
      "metadata": {
        "id": "h495r3BPcH_3"
      },
      "source": [
        "**QUESTION 4**"
      ]
    },
    {
      "cell_type": "code",
      "metadata": {
        "id": "oWh7ybiRmGw5"
      },
      "source": [
        "# recall_rate = TP/(TP+FN)\n",
        "# For option 1, Recall Rate = \n",
        "# recall_rate1 = 90/(90 + 10) = 90%\n",
        "# recall_rate2 = 79/(79 + 21) = 79%\n",
        "# recall_rate1 = 82/(82 + 18) = 82%\n",
        "# recall_rate1 = 78/(78 + 22) = 78%\n",
        "\n",
        "# Only option 1 and option 3 have recall rates of above 80%\n",
        "# So if FP costs 5 times FN\n",
        "# Assuming FN costs $1 per %, FP will cost $5 per %\n",
        "# We can now calculate the business cost for the two options\n",
        "# Business cost for option 1 will be \n",
        "# (4 * 5) + 10 = $30\n",
        "# For option 3, Business cost will be\n",
        "# (2 * 5) + 18 = $28\n",
        "\n",
        "# Since the business cost for option 3 is lower than that of option 1, Option 3 satisfies the requirements appropriately."
      ],
      "execution_count": null,
      "outputs": []
    },
    {
      "cell_type": "markdown",
      "metadata": {
        "id": "4C7rX56ocMZV"
      },
      "source": [
        "Answer: TN = 98%, FP = 2%, FN = 18%, TP = 82%"
      ]
    },
    {
      "cell_type": "markdown",
      "metadata": {
        "id": "Q5Y0b6BwcZkA"
      },
      "source": [
        "**QUESTION 5**"
      ]
    },
    {
      "cell_type": "markdown",
      "metadata": {
        "id": "wpam9NXlcdNM"
      },
      "source": [
        "Answer: Both Boosting and Bagging can be used to improve performance"
      ]
    },
    {
      "cell_type": "markdown",
      "metadata": {
        "id": "xg_R_QRYc5W-"
      },
      "source": [
        "**QUESTION 6**"
      ]
    },
    {
      "cell_type": "markdown",
      "metadata": {
        "id": "JALE2-ULc9YI"
      },
      "source": [
        "Answer: Decision Tree"
      ]
    },
    {
      "cell_type": "markdown",
      "metadata": {
        "id": "FFPZYxdLdETV"
      },
      "source": [
        "**QUESTION 7**"
      ]
    },
    {
      "cell_type": "markdown",
      "metadata": {
        "id": "bBn49xH3dNCv"
      },
      "source": [
        "Answer: Recall"
      ]
    },
    {
      "cell_type": "markdown",
      "metadata": {
        "id": "Bj2RM55xdVp3"
      },
      "source": [
        "**QUESTION 8**"
      ]
    },
    {
      "cell_type": "markdown",
      "metadata": {
        "id": "RHd3wFiBdbkF"
      },
      "source": [
        "Answer: The model has no discrimination capacity to differentiate between the positive and the negative class"
      ]
    },
    {
      "cell_type": "markdown",
      "metadata": {
        "id": "sC1XtUtZdjn9"
      },
      "source": [
        "**QUESTION 9**"
      ]
    },
    {
      "cell_type": "markdown",
      "metadata": {
        "id": "zqq7SvMgdsxZ"
      },
      "source": [
        "Answer : 8"
      ]
    },
    {
      "cell_type": "markdown",
      "metadata": {
        "id": "GI9L950Edn03"
      },
      "source": [
        "**QUESTION 10**"
      ]
    },
    {
      "cell_type": "markdown",
      "metadata": {
        "id": "PSEAfoFGd2En"
      },
      "source": [
        "Answer: \n",
        "1.   Generate synthetic samples/data using SMOTE\n",
        "\n",
        "2.   Use Bagging method"
      ]
    },
    {
      "cell_type": "markdown",
      "metadata": {
        "id": "gGltbus1fFmQ"
      },
      "source": [
        "**QUESTION 11**"
      ]
    },
    {
      "cell_type": "markdown",
      "metadata": {
        "id": "5ohAa_crfojq"
      },
      "source": [
        "Answer: One-hot encoding"
      ]
    },
    {
      "cell_type": "markdown",
      "metadata": {
        "id": "CX0zElVafuE3"
      },
      "source": [
        "**QUESTION 12**"
      ]
    },
    {
      "cell_type": "markdown",
      "metadata": {
        "id": "SSGaEeh6fxq4"
      },
      "source": [
        " Answer: - 3/7 log(3/7) - 4/7 log(4/7)"
      ]
    },
    {
      "cell_type": "markdown",
      "metadata": {
        "id": "D-hummSJf4Ff"
      },
      "source": [
        "**QUESTION 13**"
      ]
    },
    {
      "cell_type": "markdown",
      "metadata": {
        "id": "RXbP1CthgCcR"
      },
      "source": [
        "Answer: Accuracy"
      ]
    },
    {
      "cell_type": "markdown",
      "metadata": {
        "id": "7laltqqxgQdq"
      },
      "source": [
        "## Preparing data for questions "
      ]
    },
    {
      "cell_type": "code",
      "metadata": {
        "id": "GCO6bX-loXcL"
      },
      "source": [
        "# load dataset to be used \n",
        "import pandas as pd\n",
        "url = 'https://archive.ics.uci.edu/ml/machine-learning-databases/00471/Data_for_UCI_named.csv'\n",
        "data = pd.read_csv(url)"
      ],
      "execution_count": 67,
      "outputs": []
    },
    {
      "cell_type": "code",
      "metadata": {
        "colab": {
          "base_uri": "https://localhost:8080/",
          "height": 112
        },
        "id": "cA1Xqmd9X6qr",
        "outputId": "43f29e2a-6f55-48dc-eac7-dd5402ed048b"
      },
      "source": [
        "# view two random rows\n",
        "data.sample(2)"
      ],
      "execution_count": 68,
      "outputs": [
        {
          "output_type": "execute_result",
          "data": {
            "text/html": [
              "<div>\n",
              "<style scoped>\n",
              "    .dataframe tbody tr th:only-of-type {\n",
              "        vertical-align: middle;\n",
              "    }\n",
              "\n",
              "    .dataframe tbody tr th {\n",
              "        vertical-align: top;\n",
              "    }\n",
              "\n",
              "    .dataframe thead th {\n",
              "        text-align: right;\n",
              "    }\n",
              "</style>\n",
              "<table border=\"1\" class=\"dataframe\">\n",
              "  <thead>\n",
              "    <tr style=\"text-align: right;\">\n",
              "      <th></th>\n",
              "      <th>tau1</th>\n",
              "      <th>tau2</th>\n",
              "      <th>tau3</th>\n",
              "      <th>tau4</th>\n",
              "      <th>p1</th>\n",
              "      <th>p2</th>\n",
              "      <th>p3</th>\n",
              "      <th>p4</th>\n",
              "      <th>g1</th>\n",
              "      <th>g2</th>\n",
              "      <th>g3</th>\n",
              "      <th>g4</th>\n",
              "      <th>stab</th>\n",
              "      <th>stabf</th>\n",
              "    </tr>\n",
              "  </thead>\n",
              "  <tbody>\n",
              "    <tr>\n",
              "      <th>1188</th>\n",
              "      <td>6.147694</td>\n",
              "      <td>4.742401</td>\n",
              "      <td>7.931209</td>\n",
              "      <td>2.238293</td>\n",
              "      <td>4.697516</td>\n",
              "      <td>-1.408769</td>\n",
              "      <td>-1.831058</td>\n",
              "      <td>-1.457689</td>\n",
              "      <td>0.531641</td>\n",
              "      <td>0.993834</td>\n",
              "      <td>0.585197</td>\n",
              "      <td>0.850593</td>\n",
              "      <td>0.060809</td>\n",
              "      <td>unstable</td>\n",
              "    </tr>\n",
              "    <tr>\n",
              "      <th>2785</th>\n",
              "      <td>0.812978</td>\n",
              "      <td>1.929279</td>\n",
              "      <td>8.426023</td>\n",
              "      <td>4.992221</td>\n",
              "      <td>3.783188</td>\n",
              "      <td>-1.093913</td>\n",
              "      <td>-1.642593</td>\n",
              "      <td>-1.046682</td>\n",
              "      <td>0.254226</td>\n",
              "      <td>0.559970</td>\n",
              "      <td>0.241138</td>\n",
              "      <td>0.212447</td>\n",
              "      <td>-0.037486</td>\n",
              "      <td>stable</td>\n",
              "    </tr>\n",
              "  </tbody>\n",
              "</table>\n",
              "</div>"
            ],
            "text/plain": [
              "          tau1      tau2      tau3  ...        g4      stab     stabf\n",
              "1188  6.147694  4.742401  7.931209  ...  0.850593  0.060809  unstable\n",
              "2785  0.812978  1.929279  8.426023  ...  0.212447 -0.037486    stable\n",
              "\n",
              "[2 rows x 14 columns]"
            ]
          },
          "metadata": {},
          "execution_count": 68
        }
      ]
    },
    {
      "cell_type": "code",
      "metadata": {
        "id": "oct_bcrxtV_a"
      },
      "source": [
        "# drop 'stab' \n",
        "data.drop(columns='stab', inplace = True)"
      ],
      "execution_count": 69,
      "outputs": []
    },
    {
      "cell_type": "code",
      "metadata": {
        "id": "4_YaarVwwjAW"
      },
      "source": [
        "# seperating dataset into x(independent variables) and y(dependent variable)\n",
        "x = data.drop(columns = 'stabf')\n",
        "y = data['stabf']"
      ],
      "execution_count": 70,
      "outputs": []
    },
    {
      "cell_type": "code",
      "metadata": {
        "id": "MzvySQMqvsM2"
      },
      "source": [
        "# splitting dataset into train and test set\n",
        "\n",
        "from sklearn.model_selection import train_test_split\n",
        "xtrain, xtest, ytrain, ytest = train_test_split(x, y, test_size = 0.2, random_state =1)"
      ],
      "execution_count": 73,
      "outputs": []
    },
    {
      "cell_type": "code",
      "metadata": {
        "id": "gGAEg1U_wMKN"
      },
      "source": [
        "# Use the standard scaler to transform the train set (x_train, y_train) and the test set (x_test)\n",
        "\n",
        "from sklearn.preprocessing import StandardScaler\n",
        "scaler = StandardScaler()\n",
        "xtrain = pd.DataFrame(scaler.fit_transform(xtrain), columns = xtrain.columns) \n",
        "xtest = pd.DataFrame(scaler.transform(xtest), columns = xtest.columns)"
      ],
      "execution_count": 74,
      "outputs": []
    },
    {
      "cell_type": "markdown",
      "metadata": {
        "id": "ARdRVbVPgyBG"
      },
      "source": [
        "## **Random Forest** "
      ]
    },
    {
      "cell_type": "markdown",
      "metadata": {
        "id": "S6-UaRBihs_B"
      },
      "source": [
        "**QUESTION 14**"
      ]
    },
    {
      "cell_type": "code",
      "metadata": {
        "colab": {
          "base_uri": "https://localhost:8080/"
        },
        "id": "psGTV4I0yqUx",
        "outputId": "ed14ad0f-7a91-475a-86e1-a8b222d2e612"
      },
      "source": [
        "from sklearn.ensemble import RandomForestClassifier\n",
        "from sklearn.metrics import classification_report, accuracy_score, precision_score, recall_score, confusion_matrix\n",
        "\n",
        "model = RandomForestClassifier(random_state = 1)\n",
        "model.fit(xtrain, ytrain)\n",
        "yhat = model.predict(xtest)\n",
        "\n",
        "print('Accuracy score for Random Forest =', round(accuracy_score(ytest, yhat), 4))"
      ],
      "execution_count": 77,
      "outputs": [
        {
          "output_type": "stream",
          "name": "stdout",
          "text": [
            "Accuracy score for Random Forest = 0.929\n"
          ]
        }
      ]
    },
    {
      "cell_type": "markdown",
      "metadata": {
        "id": "NxsCSzxVhl80"
      },
      "source": [
        "## **XGBoost**"
      ]
    },
    {
      "cell_type": "markdown",
      "metadata": {
        "id": "UfgO2BiKh_UC"
      },
      "source": [
        "**QUESTION 15**"
      ]
    },
    {
      "cell_type": "code",
      "metadata": {
        "colab": {
          "base_uri": "https://localhost:8080/"
        },
        "id": "izs4N_cW9Vwt",
        "outputId": "3533c483-b187-4230-c3c0-76cbb4793eb8"
      },
      "source": [
        "from xgboost import XGBClassifier\n",
        "\n",
        "model1 = XGBClassifier()\n",
        "model1.fit(xtrain, ytrain)\n",
        "yhat1 = model1.predict(xtest)\n",
        "print('Accuracy score for XGBClassifier =', round(accuracy_score(ytest, yhat1),4))"
      ],
      "execution_count": 78,
      "outputs": [
        {
          "output_type": "stream",
          "name": "stdout",
          "text": [
            "Accuracy score for XGBClassifier = 0.9195\n"
          ]
        }
      ]
    },
    {
      "cell_type": "markdown",
      "metadata": {
        "id": "4NV6_9u-iedv"
      },
      "source": [
        "## **LGBM Classifier**"
      ]
    },
    {
      "cell_type": "markdown",
      "metadata": {
        "id": "kKZJ05ZeinE9"
      },
      "source": [
        "**QUESTION 16**"
      ]
    },
    {
      "cell_type": "code",
      "metadata": {
        "id": "uQLt6cen_K0J",
        "colab": {
          "base_uri": "https://localhost:8080/"
        },
        "outputId": "8511dd1b-37d0-4eae-b6bb-29cdcc183668"
      },
      "source": [
        "from lightgbm import LGBMClassifier\n",
        "\n",
        "model2 = LGBMClassifier(random_state = 1)\n",
        "model2.fit(xtrain, ytrain)\n",
        "yhat2 = model2.predict(xtest)\n",
        "\n",
        "print('Accuracy score for LGBM Classifier =', round(accuracy_score(ytest, yhat2),4))"
      ],
      "execution_count": 79,
      "outputs": [
        {
          "output_type": "stream",
          "name": "stdout",
          "text": [
            "Accuracy score for LGBM Classifier = 0.9375\n"
          ]
        }
      ]
    },
    {
      "cell_type": "markdown",
      "metadata": {
        "id": "oxOC4eqqjPwd"
      },
      "source": [
        "## **Extra Trees Classifier**"
      ]
    },
    {
      "cell_type": "markdown",
      "metadata": {
        "id": "psLECd8GjY7X"
      },
      "source": [
        "**QUESTION 17**"
      ]
    },
    {
      "cell_type": "code",
      "metadata": {
        "id": "hGbP8G0qXs4s"
      },
      "source": [
        "# hyperparameter values given in quiz instructions\n",
        "\n",
        "n_estimators = [50, 100, 300, 500, 1000]\n",
        "min_samples_split = [2, 3, 5, 7, 9]\n",
        "min_samples_leaf = [1, 2, 4, 6, 8]\n",
        "max_features = ['auto', 'sqrt', 'log2', None]\n",
        "\n",
        "hyperparameter_grid = {'n_estimators': n_estimators, 'min_samples_leaf': min_samples_leaf, 'min_samples_split': min_samples_split, \\\n",
        "                       'max_features': max_features}"
      ],
      "execution_count": 80,
      "outputs": []
    },
    {
      "cell_type": "code",
      "metadata": {
        "id": "lBamXkWWYdgm"
      },
      "source": [
        "from sklearn.ensemble import ExtraTreesClassifier\n",
        "model3 = ExtraTreesClassifier(random_state = 1)"
      ],
      "execution_count": 81,
      "outputs": []
    },
    {
      "cell_type": "code",
      "metadata": {
        "id": "ig_ICsTIZKeF",
        "colab": {
          "base_uri": "https://localhost:8080/"
        },
        "outputId": "43259fcc-f3e6-4806-e913-804ef383334b"
      },
      "source": [
        "from sklearn.model_selection import RandomizedSearchCV\n",
        "# cv=5, n_iter=10, scoring = 'accuracy', n_jobs = -1, verbose = 1 and random_state = 1\n",
        "Rand_Search = RandomizedSearchCV(model3, param_distributions= hyperparameter_grid, random_state = 1, cv = 5, n_iter=10, \\\n",
        "                                 scoring = 'accuracy', n_jobs=-1, verbose= 1)\n",
        "search = Rand_Search.fit(xtrain, ytrain)"
      ],
      "execution_count": 82,
      "outputs": [
        {
          "output_type": "stream",
          "name": "stdout",
          "text": [
            "Fitting 5 folds for each of 10 candidates, totalling 50 fits\n"
          ]
        },
        {
          "output_type": "stream",
          "name": "stderr",
          "text": [
            "[Parallel(n_jobs=-1)]: Using backend LokyBackend with 2 concurrent workers.\n",
            "[Parallel(n_jobs=-1)]: Done  46 tasks      | elapsed:  1.5min\n",
            "[Parallel(n_jobs=-1)]: Done  50 out of  50 | elapsed:  1.5min finished\n"
          ]
        }
      ]
    },
    {
      "cell_type": "code",
      "metadata": {
        "id": "9RRyzu1LZSk9",
        "colab": {
          "base_uri": "https://localhost:8080/"
        },
        "outputId": "2676c506-e351-4ce8-9358-2083eec810ea"
      },
      "source": [
        "# to reveal the most effective hyperparameters\n",
        "\n",
        "print('The best hyperparameters are :')\n",
        "search.best_params_"
      ],
      "execution_count": 83,
      "outputs": [
        {
          "output_type": "stream",
          "name": "stdout",
          "text": [
            "The best hyperparameters are :\n"
          ]
        },
        {
          "output_type": "execute_result",
          "data": {
            "text/plain": [
              "{'max_features': None,\n",
              " 'min_samples_leaf': 8,\n",
              " 'min_samples_split': 2,\n",
              " 'n_estimators': 1000}"
            ]
          },
          "metadata": {},
          "execution_count": 83
        }
      ]
    },
    {
      "cell_type": "markdown",
      "metadata": {
        "id": "O7-p7W2tlKMA"
      },
      "source": [
        "**QUESTION 18**"
      ]
    },
    {
      "cell_type": "code",
      "metadata": {
        "colab": {
          "base_uri": "https://localhost:8080/"
        },
        "id": "GNO5TIm9bqIl",
        "outputId": "c4974709-8a2c-452c-ae21-0c30772dfc21"
      },
      "source": [
        "# using the best hyperparameters\n",
        "model4 = ExtraTreesClassifier(n_estimators=1000, min_samples_split = 2, min_samples_leaf = 8, max_features=None, random_state = 1)\n",
        "model4.fit(xtrain, ytrain)\n",
        "yhat4 = model4.predict(xtest)\n",
        "print('Accuracy score =', accuracy_score(ytest, yhat4))"
      ],
      "execution_count": 86,
      "outputs": [
        {
          "output_type": "stream",
          "name": "stdout",
          "text": [
            "Accuracy score = 0.927\n"
          ]
        }
      ]
    },
    {
      "cell_type": "code",
      "metadata": {
        "colab": {
          "base_uri": "https://localhost:8080/"
        },
        "id": "LCAp3uC-wGK9",
        "outputId": "bb6773fb-2a71-4780-c0bf-eb0ec3705bfe"
      },
      "source": [
        "# without using any hyperparameters\n",
        "model3.fit(xtrain, ytrain)\n",
        "pred = model3.predict(xtest)\n",
        "print('Accuracy score =', accuracy_score(ytest, pred))"
      ],
      "execution_count": 87,
      "outputs": [
        {
          "output_type": "stream",
          "name": "stdout",
          "text": [
            "Accuracy score = 0.928\n"
          ]
        }
      ]
    },
    {
      "cell_type": "markdown",
      "metadata": {
        "id": "481vNV3dlHA9"
      },
      "source": [
        "Comparing both accuracy scores, new optimal model is lower than the initial ExtraTreesClassifier model with no hyperparameter tuning"
      ]
    },
    {
      "cell_type": "markdown",
      "metadata": {
        "id": "IdR0H4-xlmNb"
      },
      "source": [
        "**QUESTION 19**"
      ]
    },
    {
      "cell_type": "markdown",
      "metadata": {
        "id": "VMMuSpHiluVi"
      },
      "source": [
        "Answer: All of the above"
      ]
    },
    {
      "cell_type": "markdown",
      "metadata": {
        "id": "X2fJfERplztl"
      },
      "source": [
        "**QUESTION 20**"
      ]
    },
    {
      "cell_type": "code",
      "metadata": {
        "colab": {
          "base_uri": "https://localhost:8080/"
        },
        "id": "iIvlD8Dc-1Wi",
        "outputId": "62be4be6-f396-44db-c480-9d6476e4e56c"
      },
      "source": [
        "feature_importance = search.best_estimator_.feature_importances_\n",
        "sorted (zip(feature_importance,x), reverse = True) "
      ],
      "execution_count": 88,
      "outputs": [
        {
          "output_type": "execute_result",
          "data": {
            "text/plain": [
              "[(0.14050750384993677, 'tau2'),\n",
              " (0.13723974766109256, 'tau1'),\n",
              " (0.1354167630909727, 'tau4'),\n",
              " (0.13468028520386593, 'tau3'),\n",
              " (0.11306267999167334, 'g3'),\n",
              " (0.10954089174337298, 'g4'),\n",
              " (0.10757764577478764, 'g2'),\n",
              " (0.10256244080927947, 'g1'),\n",
              " (0.005429268421191957, 'p3'),\n",
              " (0.005336864710946151, 'p2'),\n",
              " (0.004962486591192238, 'p4'),\n",
              " (0.003683422151688322, 'p1')]"
            ]
          },
          "metadata": {},
          "execution_count": 88
        }
      ]
    }
  ]
}